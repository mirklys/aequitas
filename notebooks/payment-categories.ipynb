{
 "cells": [
  {
   "cell_type": "code",
   "execution_count": null,
   "metadata": {},
   "outputs": [],
   "source": [
    "import os\n",
    "import sqlite3\n",
    "import pandas as pd\n",
    "import re\n",
    "import unicodedata"
   ]
  },
  {
   "cell_type": "code",
   "execution_count": null,
   "metadata": {},
   "outputs": [],
   "source": [
    "root_dir = os.path.abspath(os.path.join(os.getcwd(), os.pardir))\n",
    "db_path = os.path.join(root_dir, 'data', 'database', 'aequitas.db')"
   ]
  },
  {
   "cell_type": "code",
   "execution_count": null,
   "metadata": {},
   "outputs": [],
   "source": [
    "# read the sqlite database\n",
    "conn = sqlite3.connect(db_path)\n",
    "c = conn.cursor()\n",
    "table_name = 'transactions'\n",
    "\n",
    "raw_data = pd.read_sql_query(f\"SELECT * FROM {table_name}\", conn)"
   ]
  },
  {
   "cell_type": "code",
   "execution_count": null,
   "metadata": {},
   "outputs": [],
   "source": [
    "raw_data"
   ]
  },
  {
   "cell_type": "code",
   "execution_count": null,
   "metadata": {},
   "outputs": [],
   "source": [
    "\n",
    "class PaymentCategoryRBM:\n",
    "    \"\"\"This is a class for the rule-based model to categorize the transactions\"\"\"\n",
    "\n",
    "    def __init__(self, data):\n",
    "        self.categories = {\n",
    "            'food': ['albert heijn', 'jumbo', 'lidl', 'spar', 'aldi', 'dirk', 'plus', 'coop', 'ah'],\n",
    "            'travel': ['ns reizigers', 'swapfiets'],\n",
    "            'stationary': ['bruna'],\n",
    "            'suppliances': ['action', 'blokker', 'hema', 'ikea', 'media markt', 'coolblue', 'bol.com'],\n",
    "            'eating out': ['mcdonalds', 'kfc', 'burger king', 'cafeteria', 'restaurant', 'cafe', 'café'],\n",
    "            'friends': ['espinoza', 'espina'],\n",
    "            'myself': ['giedrius', 'mirklys'],\n",
    "            'insurance': ['vgz'],\n",
    "            'rent': ['huur', 'real estate malden'],\n",
    "            'subscription': ['spotify', 'google', 'subscriptions']\n",
    "        }\n",
    "        self.data = data\n",
    "\n",
    "    def categorize(self):\n",
    "        \"\"\"This function categorizes the transactions based on the payment amount\"\"\"\n",
    "        self.data['category'] = self.data['name'].apply(lambda x: self._assign_category(x))\n",
    "        return self.data\n",
    "    \n",
    "    def _assign_category(self, name):\n",
    "        \"\"\"This function assigns the category to the transaction based on the name\"\"\"\n",
    "        description = self._preprocess_text(name)\n",
    "        \n",
    "        for category, keywords in self.categories.items():\n",
    "            pattern = '|'.join(re.escape(keyword) for keyword in keywords)\n",
    "            \n",
    "            if re.search(pattern, description):\n",
    "                return category\n",
    "        \n",
    "        return \"unknown\"\n",
    "    \n",
    "    def _preprocess_text(self, text):\n",
    "        text = unicodedata.normalize('NFKD', text)\n",
    "        text = text.lower()\n",
    "        text = re.sub(r'[^a-z\\s]', '', text)\n",
    "        text = re.sub(r'\\s+', ' ', text).strip()\n",
    "        return text"
   ]
  },
  {
   "cell_type": "code",
   "execution_count": null,
   "metadata": {},
   "outputs": [],
   "source": [
    "classifier = PaymentCategoryRBM(raw_data)\n",
    "data = classifier.categorize()"
   ]
  },
  {
   "cell_type": "code",
   "execution_count": null,
   "metadata": {},
   "outputs": [],
   "source": [
    "data"
   ]
  }
 ],
 "metadata": {
  "kernelspec": {
   "display_name": ".venv",
   "language": "python",
   "name": "python3"
  },
  "language_info": {
   "codemirror_mode": {
    "name": "ipython",
    "version": 3
   },
   "file_extension": ".py",
   "mimetype": "text/x-python",
   "name": "python",
   "nbconvert_exporter": "python",
   "pygments_lexer": "ipython3",
   "version": "3.12.3"
  }
 },
 "nbformat": 4,
 "nbformat_minor": 2
}
