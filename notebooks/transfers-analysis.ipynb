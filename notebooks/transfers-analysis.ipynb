{
 "cells": [
  {
   "cell_type": "code",
   "execution_count": 1,
   "metadata": {},
   "outputs": [],
   "source": [
    "import pandas as pd\n",
    "import os\n",
    "import re"
   ]
  },
  {
   "cell_type": "code",
   "execution_count": 2,
   "metadata": {},
   "outputs": [],
   "source": [
    "# get the root directory, this notebook is in the notebooks directory\n",
    "root_dir = os.path.abspath(os.path.join(os.getcwd(), os.pardir))\n",
    "raw_files_dir = os.path.join(root_dir, 'data', 'raw')"
   ]
  },
  {
   "cell_type": "code",
   "execution_count": 8,
   "metadata": {},
   "outputs": [],
   "source": [
    "raw_files = os.listdir(raw_files_dir)\n",
    "abs_raw_files = [os.path.join(raw_files_dir, f) for f in raw_files]"
   ]
  },
  {
   "cell_type": "code",
   "execution_count": null,
   "metadata": {},
   "outputs": [],
   "source": [
    "abs_raw_files"
   ]
  },
  {
   "cell_type": "code",
   "execution_count": 10,
   "metadata": {},
   "outputs": [],
   "source": [
    "raw_transactions = pd.read_excel(abs_raw_files[0])"
   ]
  },
  {
   "cell_type": "code",
   "execution_count": null,
   "metadata": {},
   "outputs": [],
   "source": [
    "raw_transactions[\"Omschrijving\"][8]"
   ]
  },
  {
   "cell_type": "code",
   "execution_count": null,
   "metadata": {},
   "outputs": [],
   "source": [
    "raw_transactions[\"Omschrijving\"][12]"
   ]
  },
  {
   "cell_type": "code",
   "execution_count": null,
   "metadata": {},
   "outputs": [],
   "source": [
    "raw_transactions[\"Omschrijving\"][25].split(\"  \")"
   ]
  },
  {
   "cell_type": "code",
   "execution_count": 25,
   "metadata": {},
   "outputs": [],
   "source": [
    "transactions = raw_transactions.copy()\n",
    "def clean_list(lst):\n",
    "    \"\"\"Remove empty strings and strings with only spaces.\"\"\"\n",
    "    return [item for item in lst if item.strip()]\n",
    "\n",
    "def parse_transaction(details):\n",
    "    if details.startswith('/'):\n",
    "        # Handle structured data\n",
    "        parts = details.split('/')\n",
    "        cleaned_parts = clean_list(parts)\n",
    "        return dict(zip(cleaned_parts[::2], cleaned_parts[1::2]))\n",
    "    else:\n",
    "        # Handle unstructured data\n",
    "        parts = details.split('   ')\n",
    "        cleaned_parts = clean_list(parts)\n",
    "        if cleaned_parts[0].startswith('BEA'):\n",
    "            return {\n",
    "                'TRTP': cleaned_parts[0],\n",
    "                'NAME': cleaned_parts[1].split(',')[0].strip(),\n",
    "                'IBAN': cleaned_parts[1].split(',')[1].strip(),\n",
    "                'location': cleaned_parts[-1]\n",
    "            }\n",
    "    return {}"
   ]
  },
  {
   "cell_type": "code",
   "execution_count": 26,
   "metadata": {},
   "outputs": [],
   "source": [
    "# Apply the parsing function to the 'Details' column\n",
    "parsed_details = transactions[\"Omschrijving\"].apply(parse_transaction)\n",
    "\n",
    "# Convert the parsed details into a DataFrame and concatenate with the original DataFrame\n",
    "parsed_df = pd.DataFrame(parsed_details.tolist())\n",
    "transactions = pd.concat([transactions, parsed_df], axis=1)\n",
    "transactions = transactions.drop(columns=['Omschrijving', \"BIC\", \"EREF\"])"
   ]
  },
  {
   "cell_type": "code",
   "execution_count": null,
   "metadata": {},
   "outputs": [],
   "source": [
    "transactions"
   ]
  },
  {
   "cell_type": "code",
   "execution_count": null,
   "metadata": {},
   "outputs": [],
   "source": [
    "transactions = transactions.fillna('NOTPROVIDED')"
   ]
  },
  {
   "cell_type": "code",
   "execution_count": null,
   "metadata": {},
   "outputs": [],
   "source": [
    "def update_name(row):\n",
    "    # Check if 'tikkie' is in the NAME column (case insensitive)\n",
    "    if 'tikkie' in row['NAME'].lower():\n",
    "        if 'via' in row['NAME'].lower():\n",
    "            # Remove 'via Tikkie' (case insensitive)\n",
    "            row['NAME'] = re.sub(r'via\\s+tikkie', '', row['NAME'], flags=re.IGNORECASE).strip()\n",
    "\n",
    "            remi_row = row['REMI']\n",
    "            \n",
    "            pattern = r'\\b\\d+\\b\\s+\\b\\d+\\b\\s+(.*?)\\s+([A-Z]{2}[A-Z0-9]+)'\n",
    "            match = re.search(pattern, remi_row)\n",
    "            if match:\n",
    "                # The substring is captured in the first group\n",
    "                substring = match.group(1)\n",
    "                remi_row = substring.strip()\n",
    "            else:\n",
    "                remi_row = None\n",
    "\n",
    "            row['REMI'] = remi_row\n",
    "        else:\n",
    "            # Split the REMI column by comma and take the second to last element\n",
    "            remi_parts = [part.strip() for part in row['REMI'].split(',')]\n",
    "            if len(remi_parts) > 1:\n",
    "                row['NAME'] = remi_parts[-2]\n",
    "                row['REMI'] = remi_parts[1]\n",
    "    return row"
   ]
  },
  {
   "cell_type": "code",
   "execution_count": null,
   "metadata": {},
   "outputs": [],
   "source": [
    "transactions = transactions.apply(update_name, axis=1)"
   ]
  },
  {
   "cell_type": "code",
   "execution_count": null,
   "metadata": {},
   "outputs": [],
   "source": [
    "transactions"
   ]
  },
  {
   "cell_type": "code",
   "execution_count": null,
   "metadata": {},
   "outputs": [],
   "source": [
    "# schema of pandas tabke\n",
    "transactions.dtypes"
   ]
  }
 ],
 "metadata": {
  "kernelspec": {
   "display_name": ".venv",
   "language": "python",
   "name": "python3"
  },
  "language_info": {
   "codemirror_mode": {
    "name": "ipython",
    "version": 3
   },
   "file_extension": ".py",
   "mimetype": "text/x-python",
   "name": "python",
   "nbconvert_exporter": "python",
   "pygments_lexer": "ipython3",
   "version": "3.12.3"
  }
 },
 "nbformat": 4,
 "nbformat_minor": 2
}
